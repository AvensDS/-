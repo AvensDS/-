{
 "cells": [
  {
   "cell_type": "markdown",
   "id": "f099fefe-756f-4557-82f5-334cf9fe7620",
   "metadata": {},
   "source": [
    "# Проект по теме: Статистический анализ данных"
   ]
  },
  {
   "cell_type": "code",
   "execution_count": 1,
   "id": "72576667",
   "metadata": {},
   "outputs": [],
   "source": [
    "import pandas as pd\n",
    "import numpy as np\n",
    "import matplotlib.pyplot as plt\n",
    "import seaborn as sns\n",
    "from scipy import stats as st\n",
    "from math import factorial"
   ]
  },
  {
   "cell_type": "markdown",
   "id": "c42cbe00",
   "metadata": {},
   "source": [
    "## Загрузка данных"
   ]
  },
  {
   "cell_type": "markdown",
   "id": "7126d14f-21a5-4c6f-a7f5-17182681fef8",
   "metadata": {},
   "source": [
    "В данной работе будет проводиться анализ сервиса аренды самокатов GoFast. Для анализа и проверки гипотез будут использованы данные о некоторых пользователях из нескольких городов, а также об их поездках. \n",
    "\n",
    "Чтобы совершать поездки по городу, пользователи сервиса GoFast пользуются мобильным приложением. Сервисом можно пользоваться:\n",
    "\n",
    "||без подписки|с подпиской|\n",
    "|-|-|-|\n",
    "|абонентская плата|отсутствует|199 рублей в месяц|\n",
    "|стоимость одной минуты поездки|8 рублей|6 рублей|\n",
    "|стоимость старта|50 рублей|бесплатно|"
   ]
  },
  {
   "cell_type": "code",
   "execution_count": 2,
   "id": "eff9f206",
   "metadata": {},
   "outputs": [],
   "source": [
    "try:\n",
    "    users_data = pd.read_csv('users_go.csv')\n",
    "    riders_data = pd.read_csv('rides_go.csv')\n",
    "    subscriptions_data = pd.read_csv('subscriptions_go.csv')\n",
    "except:\n",
    "    users_data = pd.read_csv('https://code.s3.yandex.net/datasets/users_go.csv')\n",
    "    riders_data = pd.read_csv('https://code.s3.yandex.net/datasets/rides_go.csv')\n",
    "    subscriptions_data = pd.read_csv('https://code.s3.yandex.net/datasets/subscriptions_go.csv')"
   ]
  },
  {
   "cell_type": "markdown",
   "id": "21ea6525-793b-45fc-b74e-7d5ce2dffc81",
   "metadata": {},
   "source": [
    "|Описание таблицы users_data|Описание таблицы riders_data|Описание таблицы subscriptions_data|\n",
    "|-|-|-|\n",
    "|**user_id** - уникальный идентификатор пользователя|**user_id** - уникальный идентификатор пользователя|**subscription_type** - тип подписки|\n",
    "|**name** - имя пользователя|**distance**- расстояние, которое пользователь проехал в текущей сессии (в метрах)|**minute_price** - стоимость одной минуты поездки по данной подписке|\n",
    "|**age** - возраст|**duration** - продолжительность сессии (в минутах) — время с того момента, как пользователь нажал кнопку «Начать поездку» до момента, как он нажал кнопку «Завершить поездку»|**start_ride_price** - стоимость начала поездки|\n",
    "|**city** - город|**date** - дата совершения поездки|**subscription_fee** - стоимость ежемесячного платежа|\n",
    "|**subscription_type** - тип подписки (free, ultra)|"
   ]
  },
  {
   "cell_type": "code",
   "execution_count": 3,
   "id": "a029f360-b1e8-44c3-b541-4c51b23905a2",
   "metadata": {},
   "outputs": [
    {
     "name": "stdout",
     "output_type": "stream",
     "text": [
      "Информация по таблице users_data\n"
     ]
    },
    {
     "data": {
      "text/html": [
       "<div>\n",
       "<style scoped>\n",
       "    .dataframe tbody tr th:only-of-type {\n",
       "        vertical-align: middle;\n",
       "    }\n",
       "\n",
       "    .dataframe tbody tr th {\n",
       "        vertical-align: top;\n",
       "    }\n",
       "\n",
       "    .dataframe thead th {\n",
       "        text-align: right;\n",
       "    }\n",
       "</style>\n",
       "<table border=\"1\" class=\"dataframe\">\n",
       "  <thead>\n",
       "    <tr style=\"text-align: right;\">\n",
       "      <th></th>\n",
       "      <th>user_id</th>\n",
       "      <th>name</th>\n",
       "      <th>age</th>\n",
       "      <th>city</th>\n",
       "      <th>subscription_type</th>\n",
       "    </tr>\n",
       "  </thead>\n",
       "  <tbody>\n",
       "    <tr>\n",
       "      <th>0</th>\n",
       "      <td>1</td>\n",
       "      <td>Кира</td>\n",
       "      <td>22</td>\n",
       "      <td>Тюмень</td>\n",
       "      <td>ultra</td>\n",
       "    </tr>\n",
       "    <tr>\n",
       "      <th>1</th>\n",
       "      <td>2</td>\n",
       "      <td>Станислав</td>\n",
       "      <td>31</td>\n",
       "      <td>Омск</td>\n",
       "      <td>ultra</td>\n",
       "    </tr>\n",
       "    <tr>\n",
       "      <th>2</th>\n",
       "      <td>3</td>\n",
       "      <td>Алексей</td>\n",
       "      <td>20</td>\n",
       "      <td>Москва</td>\n",
       "      <td>ultra</td>\n",
       "    </tr>\n",
       "    <tr>\n",
       "      <th>3</th>\n",
       "      <td>4</td>\n",
       "      <td>Константин</td>\n",
       "      <td>26</td>\n",
       "      <td>Ростов-на-Дону</td>\n",
       "      <td>ultra</td>\n",
       "    </tr>\n",
       "    <tr>\n",
       "      <th>4</th>\n",
       "      <td>5</td>\n",
       "      <td>Адель</td>\n",
       "      <td>28</td>\n",
       "      <td>Омск</td>\n",
       "      <td>ultra</td>\n",
       "    </tr>\n",
       "  </tbody>\n",
       "</table>\n",
       "</div>"
      ],
      "text/plain": [
       "   user_id        name  age            city subscription_type\n",
       "0        1        Кира   22          Тюмень             ultra\n",
       "1        2   Станислав   31            Омск             ultra\n",
       "2        3     Алексей   20          Москва             ultra\n",
       "3        4  Константин   26  Ростов-на-Дону             ultra\n",
       "4        5       Адель   28            Омск             ultra"
      ]
     },
     "metadata": {},
     "output_type": "display_data"
    },
    {
     "name": "stdout",
     "output_type": "stream",
     "text": [
      "<class 'pandas.core.frame.DataFrame'>\n",
      "RangeIndex: 1565 entries, 0 to 1564\n",
      "Data columns (total 5 columns):\n",
      " #   Column             Non-Null Count  Dtype \n",
      "---  ------             --------------  ----- \n",
      " 0   user_id            1565 non-null   int64 \n",
      " 1   name               1565 non-null   object\n",
      " 2   age                1565 non-null   int64 \n",
      " 3   city               1565 non-null   object\n",
      " 4   subscription_type  1565 non-null   object\n",
      "dtypes: int64(2), object(3)\n",
      "memory usage: 61.3+ KB\n",
      "None\n",
      "\n",
      "Информация по таблице riders_data\n"
     ]
    },
    {
     "data": {
      "text/html": [
       "<div>\n",
       "<style scoped>\n",
       "    .dataframe tbody tr th:only-of-type {\n",
       "        vertical-align: middle;\n",
       "    }\n",
       "\n",
       "    .dataframe tbody tr th {\n",
       "        vertical-align: top;\n",
       "    }\n",
       "\n",
       "    .dataframe thead th {\n",
       "        text-align: right;\n",
       "    }\n",
       "</style>\n",
       "<table border=\"1\" class=\"dataframe\">\n",
       "  <thead>\n",
       "    <tr style=\"text-align: right;\">\n",
       "      <th></th>\n",
       "      <th>user_id</th>\n",
       "      <th>distance</th>\n",
       "      <th>duration</th>\n",
       "      <th>date</th>\n",
       "    </tr>\n",
       "  </thead>\n",
       "  <tbody>\n",
       "    <tr>\n",
       "      <th>0</th>\n",
       "      <td>1</td>\n",
       "      <td>4409.919140</td>\n",
       "      <td>25.599769</td>\n",
       "      <td>2021-01-01</td>\n",
       "    </tr>\n",
       "    <tr>\n",
       "      <th>1</th>\n",
       "      <td>1</td>\n",
       "      <td>2617.592153</td>\n",
       "      <td>15.816871</td>\n",
       "      <td>2021-01-18</td>\n",
       "    </tr>\n",
       "    <tr>\n",
       "      <th>2</th>\n",
       "      <td>1</td>\n",
       "      <td>754.159807</td>\n",
       "      <td>6.232113</td>\n",
       "      <td>2021-04-20</td>\n",
       "    </tr>\n",
       "    <tr>\n",
       "      <th>3</th>\n",
       "      <td>1</td>\n",
       "      <td>2694.783254</td>\n",
       "      <td>18.511000</td>\n",
       "      <td>2021-08-11</td>\n",
       "    </tr>\n",
       "    <tr>\n",
       "      <th>4</th>\n",
       "      <td>1</td>\n",
       "      <td>4028.687306</td>\n",
       "      <td>26.265803</td>\n",
       "      <td>2021-08-28</td>\n",
       "    </tr>\n",
       "  </tbody>\n",
       "</table>\n",
       "</div>"
      ],
      "text/plain": [
       "   user_id     distance   duration        date\n",
       "0        1  4409.919140  25.599769  2021-01-01\n",
       "1        1  2617.592153  15.816871  2021-01-18\n",
       "2        1   754.159807   6.232113  2021-04-20\n",
       "3        1  2694.783254  18.511000  2021-08-11\n",
       "4        1  4028.687306  26.265803  2021-08-28"
      ]
     },
     "metadata": {},
     "output_type": "display_data"
    },
    {
     "name": "stdout",
     "output_type": "stream",
     "text": [
      "<class 'pandas.core.frame.DataFrame'>\n",
      "RangeIndex: 18068 entries, 0 to 18067\n",
      "Data columns (total 4 columns):\n",
      " #   Column    Non-Null Count  Dtype  \n",
      "---  ------    --------------  -----  \n",
      " 0   user_id   18068 non-null  int64  \n",
      " 1   distance  18068 non-null  float64\n",
      " 2   duration  18068 non-null  float64\n",
      " 3   date      18068 non-null  object \n",
      "dtypes: float64(2), int64(1), object(1)\n",
      "memory usage: 564.8+ KB\n",
      "None\n",
      "\n",
      "Информация по таблице subscriptions_data\n"
     ]
    },
    {
     "data": {
      "text/html": [
       "<div>\n",
       "<style scoped>\n",
       "    .dataframe tbody tr th:only-of-type {\n",
       "        vertical-align: middle;\n",
       "    }\n",
       "\n",
       "    .dataframe tbody tr th {\n",
       "        vertical-align: top;\n",
       "    }\n",
       "\n",
       "    .dataframe thead th {\n",
       "        text-align: right;\n",
       "    }\n",
       "</style>\n",
       "<table border=\"1\" class=\"dataframe\">\n",
       "  <thead>\n",
       "    <tr style=\"text-align: right;\">\n",
       "      <th></th>\n",
       "      <th>subscription_type</th>\n",
       "      <th>minute_price</th>\n",
       "      <th>start_ride_price</th>\n",
       "      <th>subscription_fee</th>\n",
       "    </tr>\n",
       "  </thead>\n",
       "  <tbody>\n",
       "    <tr>\n",
       "      <th>0</th>\n",
       "      <td>free</td>\n",
       "      <td>8</td>\n",
       "      <td>50</td>\n",
       "      <td>0</td>\n",
       "    </tr>\n",
       "    <tr>\n",
       "      <th>1</th>\n",
       "      <td>ultra</td>\n",
       "      <td>6</td>\n",
       "      <td>0</td>\n",
       "      <td>199</td>\n",
       "    </tr>\n",
       "  </tbody>\n",
       "</table>\n",
       "</div>"
      ],
      "text/plain": [
       "  subscription_type  minute_price  start_ride_price  subscription_fee\n",
       "0              free             8                50                 0\n",
       "1             ultra             6                 0               199"
      ]
     },
     "metadata": {},
     "output_type": "display_data"
    },
    {
     "name": "stdout",
     "output_type": "stream",
     "text": [
      "<class 'pandas.core.frame.DataFrame'>\n",
      "RangeIndex: 2 entries, 0 to 1\n",
      "Data columns (total 4 columns):\n",
      " #   Column             Non-Null Count  Dtype \n",
      "---  ------             --------------  ----- \n",
      " 0   subscription_type  2 non-null      object\n",
      " 1   minute_price       2 non-null      int64 \n",
      " 2   start_ride_price   2 non-null      int64 \n",
      " 3   subscription_fee   2 non-null      int64 \n",
      "dtypes: int64(3), object(1)\n",
      "memory usage: 196.0+ bytes\n",
      "None\n",
      "\n"
     ]
    }
   ],
   "source": [
    "dict = {'users_data':users_data, 'riders_data':riders_data, 'subscriptions_data':subscriptions_data}\n",
    "for name, dfr in dict.items():\n",
    "    print('Информация по таблице', name)\n",
    "    display(dfr.head(5))\n",
    "    print(dfr.info())\n",
    "    print()"
   ]
  },
  {
   "cell_type": "markdown",
   "id": "e95ebca7",
   "metadata": {},
   "source": [
    "## Предобработка данных"
   ]
  },
  {
   "cell_type": "markdown",
   "id": "edcf561a-3d16-4e51-9996-69d1c3a638ea",
   "metadata": {},
   "source": [
    "Исходя из преварительного знакомства с данными, можно сделать вывод о том, что наименование колонок соответствует общепринятому стилю, пропущенные значения отсутствуют все столбцы имеют соответствующий тип данных (за исключением столбца date таблицы riders_data). \n",
    "\n",
    "Приведем столбец date таблицы riders_data к типу данных. И проверим наличие дубликатов."
   ]
  },
  {
   "cell_type": "code",
   "execution_count": 4,
   "id": "9a91a09f-9b2d-4e56-9443-064474afaea5",
   "metadata": {},
   "outputs": [],
   "source": [
    "riders_data['date'] = pd.to_datetime(riders_data['date'])"
   ]
  },
  {
   "cell_type": "code",
   "execution_count": 5,
   "id": "95147ddf-e655-4ead-811b-405ef3c8cf10",
   "metadata": {},
   "outputs": [
    {
     "name": "stdout",
     "output_type": "stream",
     "text": [
      "Количество явных дулбликатов в таблице users_data\n"
     ]
    },
    {
     "data": {
      "text/plain": [
       "31"
      ]
     },
     "metadata": {},
     "output_type": "display_data"
    },
    {
     "name": "stdout",
     "output_type": "stream",
     "text": [
      "Количество явных дулбликатов в таблице riders_data\n"
     ]
    },
    {
     "data": {
      "text/plain": [
       "0"
      ]
     },
     "metadata": {},
     "output_type": "display_data"
    },
    {
     "name": "stdout",
     "output_type": "stream",
     "text": [
      "Количество явных дулбликатов в таблице subscriptions_data\n"
     ]
    },
    {
     "data": {
      "text/plain": [
       "0"
      ]
     },
     "metadata": {},
     "output_type": "display_data"
    }
   ],
   "source": [
    "#lst = [users_data, riders_data, subscriptions_data]\n",
    "\n",
    "for name, dfr in dict.items():\n",
    "    print('Количество явных дулбликатов в таблице', name)\n",
    "    display(dfr.duplicated().sum())"
   ]
  },
  {
   "cell_type": "code",
   "execution_count": 6,
   "id": "ecb42ba1-8c1a-4d6e-9152-fd33f7136988",
   "metadata": {},
   "outputs": [],
   "source": [
    "#избавимся от явных дубликатов\n",
    "users_data = users_data[~users_data.duplicated()]"
   ]
  },
  {
   "cell_type": "code",
   "execution_count": 7,
   "id": "68a6e652-5af2-4cfb-a6f7-39c141eb7d3e",
   "metadata": {},
   "outputs": [],
   "source": [
    "riders_data['month'] = riders_data['date'].dt.month #добавим колонку с месяцем"
   ]
  },
  {
   "cell_type": "markdown",
   "id": "1865d1e0-c668-4bc5-9235-ac287475349b",
   "metadata": {},
   "source": [
    "Поездки с аномально короткой длительностью и большим расстоянием примем за ошибку и удалим, благо таких значений не много от общего количества, всего 95 штук."
   ]
  },
  {
   "cell_type": "code",
   "execution_count": 8,
   "id": "33e3da32-5ca0-45a1-a90a-b4480b4988dd",
   "metadata": {},
   "outputs": [
    {
     "data": {
      "text/html": [
       "<div>\n",
       "<style scoped>\n",
       "    .dataframe tbody tr th:only-of-type {\n",
       "        vertical-align: middle;\n",
       "    }\n",
       "\n",
       "    .dataframe tbody tr th {\n",
       "        vertical-align: top;\n",
       "    }\n",
       "\n",
       "    .dataframe thead th {\n",
       "        text-align: right;\n",
       "    }\n",
       "</style>\n",
       "<table border=\"1\" class=\"dataframe\">\n",
       "  <thead>\n",
       "    <tr style=\"text-align: right;\">\n",
       "      <th></th>\n",
       "      <th>user_id</th>\n",
       "      <th>distance</th>\n",
       "      <th>duration</th>\n",
       "      <th>date</th>\n",
       "      <th>month</th>\n",
       "    </tr>\n",
       "  </thead>\n",
       "  <tbody>\n",
       "    <tr>\n",
       "      <th>6531</th>\n",
       "      <td>701</td>\n",
       "      <td>4196.445201</td>\n",
       "      <td>0.5</td>\n",
       "      <td>2021-08-31</td>\n",
       "      <td>8</td>\n",
       "    </tr>\n",
       "    <tr>\n",
       "      <th>6570</th>\n",
       "      <td>704</td>\n",
       "      <td>4830.824371</td>\n",
       "      <td>0.5</td>\n",
       "      <td>2021-10-14</td>\n",
       "      <td>10</td>\n",
       "    </tr>\n",
       "    <tr>\n",
       "      <th>6680</th>\n",
       "      <td>712</td>\n",
       "      <td>4684.004397</td>\n",
       "      <td>0.5</td>\n",
       "      <td>2021-03-04</td>\n",
       "      <td>3</td>\n",
       "    </tr>\n",
       "    <tr>\n",
       "      <th>6695</th>\n",
       "      <td>713</td>\n",
       "      <td>5215.642710</td>\n",
       "      <td>0.5</td>\n",
       "      <td>2021-02-25</td>\n",
       "      <td>2</td>\n",
       "    </tr>\n",
       "    <tr>\n",
       "      <th>6768</th>\n",
       "      <td>718</td>\n",
       "      <td>5197.436649</td>\n",
       "      <td>0.5</td>\n",
       "      <td>2021-02-11</td>\n",
       "      <td>2</td>\n",
       "    </tr>\n",
       "    <tr>\n",
       "      <th>...</th>\n",
       "      <td>...</td>\n",
       "      <td>...</td>\n",
       "      <td>...</td>\n",
       "      <td>...</td>\n",
       "      <td>...</td>\n",
       "    </tr>\n",
       "    <tr>\n",
       "      <th>17004</th>\n",
       "      <td>1460</td>\n",
       "      <td>5531.335845</td>\n",
       "      <td>0.5</td>\n",
       "      <td>2021-01-19</td>\n",
       "      <td>1</td>\n",
       "    </tr>\n",
       "    <tr>\n",
       "      <th>17242</th>\n",
       "      <td>1477</td>\n",
       "      <td>6724.932981</td>\n",
       "      <td>0.5</td>\n",
       "      <td>2021-01-12</td>\n",
       "      <td>1</td>\n",
       "    </tr>\n",
       "    <tr>\n",
       "      <th>17314</th>\n",
       "      <td>1483</td>\n",
       "      <td>4445.481070</td>\n",
       "      <td>0.5</td>\n",
       "      <td>2021-03-06</td>\n",
       "      <td>3</td>\n",
       "    </tr>\n",
       "    <tr>\n",
       "      <th>17505</th>\n",
       "      <td>1496</td>\n",
       "      <td>5722.551787</td>\n",
       "      <td>0.5</td>\n",
       "      <td>2021-02-14</td>\n",
       "      <td>2</td>\n",
       "    </tr>\n",
       "    <tr>\n",
       "      <th>17909</th>\n",
       "      <td>1524</td>\n",
       "      <td>4103.998874</td>\n",
       "      <td>0.5</td>\n",
       "      <td>2021-06-18</td>\n",
       "      <td>6</td>\n",
       "    </tr>\n",
       "  </tbody>\n",
       "</table>\n",
       "<p>95 rows × 5 columns</p>\n",
       "</div>"
      ],
      "text/plain": [
       "       user_id     distance  duration       date  month\n",
       "6531       701  4196.445201       0.5 2021-08-31      8\n",
       "6570       704  4830.824371       0.5 2021-10-14     10\n",
       "6680       712  4684.004397       0.5 2021-03-04      3\n",
       "6695       713  5215.642710       0.5 2021-02-25      2\n",
       "6768       718  5197.436649       0.5 2021-02-11      2\n",
       "...        ...          ...       ...        ...    ...\n",
       "17004     1460  5531.335845       0.5 2021-01-19      1\n",
       "17242     1477  6724.932981       0.5 2021-01-12      1\n",
       "17314     1483  4445.481070       0.5 2021-03-06      3\n",
       "17505     1496  5722.551787       0.5 2021-02-14      2\n",
       "17909     1524  4103.998874       0.5 2021-06-18      6\n",
       "\n",
       "[95 rows x 5 columns]"
      ]
     },
     "execution_count": 8,
     "metadata": {},
     "output_type": "execute_result"
    }
   ],
   "source": [
    "riders_data.loc[riders_data['duration'] < 1]"
   ]
  },
  {
   "cell_type": "code",
   "execution_count": 9,
   "id": "ea6430eb-1b87-4794-a9ef-2548e627b04d",
   "metadata": {},
   "outputs": [],
   "source": [
    "riders_data = riders_data.loc[riders_data['duration'] > 1]"
   ]
  },
  {
   "cell_type": "markdown",
   "id": "212593c7",
   "metadata": {},
   "source": [
    "## Исследовательский анализ данных"
   ]
  },
  {
   "cell_type": "markdown",
   "id": "742898da-9917-4a01-ac8a-c21ed6625975",
   "metadata": {},
   "source": [
    "Для предварительного знакомства с данными и их распределением постараемся визуализировать распределение некоторых данных о пользователях и поездках:\n",
    "\n",
    "* частота встречаемости городов;\n",
    "*  соотношение пользователей с подпиской и без подписки;\n",
    "*  возраст пользователей;\n",
    "*  расстояние, которое пользователь преодолел за одну поездку;\n",
    "*  продолжительность поездок."
   ]
  },
  {
   "cell_type": "code",
   "execution_count": 10,
   "id": "f57647d9-3ffa-40c7-852a-ee62c43c691a",
   "metadata": {},
   "outputs": [
    {
     "data": {
      "image/png": "[encoded data removed]",
      "text/plain": [
       "<Figure size 1200x700 with 6 Axes>"
      ]
     },
     "metadata": {},
     "output_type": "display_data"
    }
   ],
   "source": [
    "fig, axs = plt.subplots(2, 3, figsize=(12,7))\n",
    "\n",
    "fig.tight_layout(pad=3, h_pad=6)\n",
    "users_data['city'].value_counts().plot(ylim=(140, 225), kind='bar', ax=axs[0, 0], \n",
    "                                       color = ['tab:red', 'tab:blue', 'tab:green', 'tab:purple', 'tab:orange', 'tab:cyan'])\n",
    "axs[0, 0].set_xticklabels(axs[0, 0].get_xticklabels(), rotation=40)\n",
    "axs[0, 0].set_title('Частота встречаемости городов', fontsize=8)\n",
    "axs[0, 0].set_xlabel('')\n",
    "\n",
    "users_data['subscription_type'].value_counts().plot(ylim=(500, 900), kind='bar', ax=axs[0, 1], color=['tab:red', 'tab:green'])\n",
    "axs[0, 1].set_xticklabels(axs[0, 1].get_xticklabels(), rotation=40)\n",
    "axs[0, 1].set_title('Соотношение пользователей с подпиской и без подписки', fontsize=8)\n",
    "\n",
    "users_data['age'].value_counts().sort_index().plot.bar(ax=axs[0, 2], ylabel='Количество пользователей')\n",
    "axs[0, 2].set_title('Возраст пользователей', fontsize=9)\n",
    "axs[0, 2].set_xticklabels(axs[0, 2].get_xticklabels(), fontsize=7)\n",
    "\n",
    "riders_data['distance'].plot(kind='hist', bins=45, ax=axs[1, 0], color=['tab:purple'])\n",
    "axs[1, 0].set_ylabel('Количество уникальных пользователей', fontsize=6)\n",
    "axs[1, 0].set_title('Расстояние, которое пользователь преодолел за одну поездку',fontsize=8)\n",
    "\n",
    "riders_data['duration'].plot(kind='hist', bins=50, ax=axs[1, 1], color=['tab:orange'])\n",
    "axs[1, 1].set_ylabel('Количество поездок', fontsize=10)\n",
    "axs[1, 1].set_title('Продолжительность поездок',fontsize=10)\n",
    "\n",
    "axs[1, 2].set_visible(False)\n",
    "plt.show()"
   ]
  },
  {
   "cell_type": "markdown",
   "id": "eb921089-acbe-488f-9300-cfe641927a68",
   "metadata": {},
   "source": [
    "Посмотрев на визуализированные данные можно сделать несколько выводов:"
   ]
  },
  {
   "cell_type": "markdown",
   "id": "fae70f7f-3d83-406f-9be1-75f8b8178826",
   "metadata": {},
   "source": [
    "Наибольшее количество данных по городам Пятигорск и Екатеринбург, меньше всего (на удивление пользователей из Москвы). Выборка по городам распределена относительно равномерно в диапазоне 180 - 210 значений."
   ]
  },
  {
   "cell_type": "code",
   "execution_count": 11,
   "id": "06b1a8cc-2763-4fa9-8728-e1ddd2bcf323",
   "metadata": {},
   "outputs": [
    {
     "data": {
      "text/plain": [
       "city\n",
       "Пятигорск         219\n",
       "Екатеринбург      204\n",
       "Ростов-на-Дону    198\n",
       "Краснодар         193\n",
       "Сочи              189\n",
       "Омск              183\n",
       "Тюмень            180\n",
       "Москва            168\n",
       "Name: count, dtype: int64"
      ]
     },
     "execution_count": 11,
     "metadata": {},
     "output_type": "execute_result"
    }
   ],
   "source": [
    "users_data['city'].value_counts()"
   ]
  },
  {
   "cell_type": "markdown",
   "id": "34f769c1-bcd2-4e41-9439-ddd5aab81824",
   "metadata": {},
   "source": [
    "Из описания числовых значений можно заметить, что данные предсавлены за 2021 год. Среднее время поездки 18 минут и 3129 метров"
   ]
  },
  {
   "cell_type": "code",
   "execution_count": 12,
   "id": "7d9f6b9d-ea45-4251-a2ba-7af3d0ab6958",
   "metadata": {},
   "outputs": [
    {
     "data": {
      "text/html": [
       "<div>\n",
       "<style scoped>\n",
       "    .dataframe tbody tr th:only-of-type {\n",
       "        vertical-align: middle;\n",
       "    }\n",
       "\n",
       "    .dataframe tbody tr th {\n",
       "        vertical-align: top;\n",
       "    }\n",
       "\n",
       "    .dataframe thead th {\n",
       "        text-align: right;\n",
       "    }\n",
       "</style>\n",
       "<table border=\"1\" class=\"dataframe\">\n",
       "  <thead>\n",
       "    <tr style=\"text-align: right;\">\n",
       "      <th></th>\n",
       "      <th>user_id</th>\n",
       "      <th>distance</th>\n",
       "      <th>duration</th>\n",
       "      <th>date</th>\n",
       "      <th>month</th>\n",
       "    </tr>\n",
       "  </thead>\n",
       "  <tbody>\n",
       "    <tr>\n",
       "      <th>count</th>\n",
       "      <td>17973.000000</td>\n",
       "      <td>17973.000000</td>\n",
       "      <td>17973.000000</td>\n",
       "      <td>17973</td>\n",
       "      <td>17973.000000</td>\n",
       "    </tr>\n",
       "    <tr>\n",
       "      <th>mean</th>\n",
       "      <td>841.551995</td>\n",
       "      <td>3059.863833</td>\n",
       "      <td>17.896480</td>\n",
       "      <td>2021-06-30 19:41:36.745117696</td>\n",
       "      <td>6.486786</td>\n",
       "    </tr>\n",
       "    <tr>\n",
       "      <th>min</th>\n",
       "      <td>1.000000</td>\n",
       "      <td>0.855683</td>\n",
       "      <td>2.035632</td>\n",
       "      <td>2021-01-01 00:00:00</td>\n",
       "      <td>1.000000</td>\n",
       "    </tr>\n",
       "    <tr>\n",
       "      <th>25%</th>\n",
       "      <td>484.000000</td>\n",
       "      <td>2538.839628</td>\n",
       "      <td>13.670439</td>\n",
       "      <td>2021-04-02 00:00:00</td>\n",
       "      <td>4.000000</td>\n",
       "    </tr>\n",
       "    <tr>\n",
       "      <th>50%</th>\n",
       "      <td>887.000000</td>\n",
       "      <td>3129.029255</td>\n",
       "      <td>17.714122</td>\n",
       "      <td>2021-06-30 00:00:00</td>\n",
       "      <td>6.000000</td>\n",
       "    </tr>\n",
       "    <tr>\n",
       "      <th>75%</th>\n",
       "      <td>1213.000000</td>\n",
       "      <td>3762.636244</td>\n",
       "      <td>21.747016</td>\n",
       "      <td>2021-09-28 00:00:00</td>\n",
       "      <td>9.000000</td>\n",
       "    </tr>\n",
       "    <tr>\n",
       "      <th>max</th>\n",
       "      <td>1534.000000</td>\n",
       "      <td>7066.003772</td>\n",
       "      <td>40.823963</td>\n",
       "      <td>2021-12-30 00:00:00</td>\n",
       "      <td>12.000000</td>\n",
       "    </tr>\n",
       "    <tr>\n",
       "      <th>std</th>\n",
       "      <td>435.144929</td>\n",
       "      <td>1108.814612</td>\n",
       "      <td>5.975424</td>\n",
       "      <td>NaN</td>\n",
       "      <td>3.436024</td>\n",
       "    </tr>\n",
       "  </tbody>\n",
       "</table>\n",
       "</div>"
      ],
      "text/plain": [
       "            user_id      distance      duration  \\\n",
       "count  17973.000000  17973.000000  17973.000000   \n",
       "mean     841.551995   3059.863833     17.896480   \n",
       "min        1.000000      0.855683      2.035632   \n",
       "25%      484.000000   2538.839628     13.670439   \n",
       "50%      887.000000   3129.029255     17.714122   \n",
       "75%     1213.000000   3762.636244     21.747016   \n",
       "max     1534.000000   7066.003772     40.823963   \n",
       "std      435.144929   1108.814612      5.975424   \n",
       "\n",
       "                                date         month  \n",
       "count                          17973  17973.000000  \n",
       "mean   2021-06-30 19:41:36.745117696      6.486786  \n",
       "min              2021-01-01 00:00:00      1.000000  \n",
       "25%              2021-04-02 00:00:00      4.000000  \n",
       "50%              2021-06-30 00:00:00      6.000000  \n",
       "75%              2021-09-28 00:00:00      9.000000  \n",
       "max              2021-12-30 00:00:00     12.000000  \n",
       "std                              NaN      3.436024  "
      ]
     },
     "execution_count": 12,
     "metadata": {},
     "output_type": "execute_result"
    }
   ],
   "source": [
    "riders_data.describe()"
   ]
  },
  {
   "cell_type": "markdown",
   "id": "e7050f4f-cdb3-4f8e-872b-00e9937b099c",
   "metadata": {},
   "source": [
    "График распределения расстояний, которые кользователь преодалел за одну поездку напоминает бимодальное распределение с характерным пиками пиком среднего расстояния и небольшим пиком на расстоянии около 700 м"
   ]
  },
  {
   "cell_type": "code",
   "execution_count": 13,
   "id": "151e56a1-9d48-485d-95d1-40a5ca5abaab",
   "metadata": {},
   "outputs": [
    {
     "data": {
      "image/png": "[encoded data removed]",
      "text/plain": [
       "<Figure size 600x200 with 1 Axes>"
      ]
     },
     "metadata": {},
     "output_type": "display_data"
    }
   ],
   "source": [
    "riders_data['distance'].plot(kind='hist', bins=45, figsize=(6, 2))\n",
    "plt.axvline(700, color='red', linestyle='dashed', linewidth=2)\n",
    "plt.axvline(riders_data['distance'].mean(), color='red', linestyle='dashed', linewidth=2)\n",
    "plt.show()"
   ]
  },
  {
   "cell_type": "markdown",
   "id": "6bb1be50-30db-4638-b7f7-804a363f11cb",
   "metadata": {},
   "source": [
    "Пользователи с подпиской и без подписки соотносятся примерно 45.6% на 54,4% соответственно. Круговая диаграмма представлена ниже. "
   ]
  },
  {
   "cell_type": "code",
   "execution_count": 14,
   "id": "a67d5344-233a-493f-89c1-a71b900db18e",
   "metadata": {},
   "outputs": [
    {
     "data": {
      "image/png": "[encoded data removed]",
      "text/plain": [
       "<Figure size 640x480 with 1 Axes>"
      ]
     },
     "metadata": {},
     "output_type": "display_data"
    }
   ],
   "source": [
    "plt.pie(users_data['subscription_type'].value_counts(), \n",
    "        explode = (0.05, 0), \n",
    "        labels = ['Free', 'Ultra'], \n",
    "        shadow=True, \n",
    "        startangle=50,\n",
    "        autopct='%1.1f%%'\n",
    "       )\n",
    "plt.show()"
   ]
  },
  {
   "cell_type": "markdown",
   "id": "6cda5c8e-2638-4c59-b7ed-66da267dc557",
   "metadata": {},
   "source": [
    "Наиболее часто встречаются пользователи от 20 до 30 лет"
   ]
  },
  {
   "cell_type": "markdown",
   "id": "4ef51331",
   "metadata": {},
   "source": [
    "## Объединение данных"
   ]
  },
  {
   "cell_type": "markdown",
   "id": "73297f98-7410-48d9-b9a9-2dc287adf17d",
   "metadata": {},
   "source": [
    "### Объединим данные о пользователях, поездках и подписках в один датафрейм"
   ]
  },
  {
   "cell_type": "code",
   "execution_count": 15,
   "id": "d1a2d54f-ea42-41f8-923b-b9b99b668ba9",
   "metadata": {},
   "outputs": [
    {
     "name": "stdout",
     "output_type": "stream",
     "text": [
      "<class 'pandas.core.frame.DataFrame'>\n",
      "RangeIndex: 17973 entries, 0 to 17972\n",
      "Data columns (total 12 columns):\n",
      " #   Column             Non-Null Count  Dtype         \n",
      "---  ------             --------------  -----         \n",
      " 0   user_id            17973 non-null  int64         \n",
      " 1   distance           17973 non-null  float64       \n",
      " 2   duration           17973 non-null  float64       \n",
      " 3   date               17973 non-null  datetime64[ns]\n",
      " 4   month              17973 non-null  int32         \n",
      " 5   name               17973 non-null  object        \n",
      " 6   age                17973 non-null  int64         \n",
      " 7   city               17973 non-null  object        \n",
      " 8   subscription_type  17973 non-null  object        \n",
      " 9   minute_price       17973 non-null  int64         \n",
      " 10  start_ride_price   17973 non-null  int64         \n",
      " 11  subscription_fee   17973 non-null  int64         \n",
      "dtypes: datetime64[ns](1), float64(2), int32(1), int64(5), object(3)\n",
      "memory usage: 1.6+ MB\n"
     ]
    }
   ],
   "source": [
    "df = riders_data.merge(users_data.merge(subscriptions_data, on='subscription_type'), on='user_id')\n",
    "df.info()"
   ]
  },
  {
   "cell_type": "code",
   "execution_count": 16,
   "id": "62554dfc-9840-46da-b5a6-03f3cc883f98",
   "metadata": {},
   "outputs": [
    {
     "name": "stdout",
     "output_type": "stream",
     "text": [
      "Отношение количества строк таблицы riders_data равно 1.0\n",
      "Данные не потерялись, размерность датафрема не изменилась\n",
      "Суммарное количество пропусков в таблице равно 0\n"
     ]
    }
   ],
   "source": [
    "print('Отношение количества строк таблицы riders_data равно', df.shape[0] / riders_data.shape[0])\n",
    "print('Данные не потерялись, размерность датафрема не изменилась' if (df.shape[0] / riders_data.shape[0]) == 1 else 'Упс...Кое-что пропало...')\n",
    "print('Суммарное количество пропусков в таблице равно', df.isna().sum().sum())"
   ]
  },
  {
   "cell_type": "markdown",
   "id": "b3008f5e-c2f5-45ab-b2b2-8d181bb3d4eb",
   "metadata": {},
   "source": [
    "### Создайте ещё два датафрейма из датафрейма, созданного на этапе 4.1:\n",
    "\n",
    "* c данными о пользователях без подписки;\n",
    "* с данными о пользователях с подпиской."
   ]
  },
  {
   "cell_type": "code",
   "execution_count": 17,
   "id": "e1416fcf-9e07-4dbf-8684-8672bbde755b",
   "metadata": {},
   "outputs": [],
   "source": [
    "df_ultra = df[df['subscription_type'] == 'ultra']\n",
    "df_free = df[df['subscription_type'] == 'free']"
   ]
  },
  {
   "cell_type": "markdown",
   "id": "242f9ba7-bda9-4d27-9a08-92c5eaec0018",
   "metadata": {},
   "source": [
    "### Визуализируем информацию о расстоянии и времени поездок для пользователей обеих категорий."
   ]
  },
  {
   "cell_type": "code",
   "execution_count": 18,
   "id": "e34ee165-78c1-448a-a296-812d621dd729",
   "metadata": {},
   "outputs": [
    {
     "data": {
      "image/png": "[encoded data removed]",
      "text/plain": [
       "<Figure size 1500x800 with 4 Axes>"
      ]
     },
     "metadata": {},
     "output_type": "display_data"
    }
   ],
   "source": [
    "fig, axs = plt.subplots(2, 2, figsize=(15, 8))\n",
    "\n",
    "df_free['distance'].hist(bins=100, ax=axs[0, 0], alpha=0.8)\n",
    "df_ultra['distance'].hist(bins=100, ax=axs[0, 0], alpha=0.8)\n",
    "axs[0, 0].legend(['Free', 'Ultra'], title='Тип подписки')\n",
    "axs[0, 0].set_xlabel('Расстояние поездки')\n",
    "\n",
    "\n",
    "df_free['duration'].hist(bins=70, ax=axs[0, 1], alpha=0.8)\n",
    "df_ultra['duration'].hist(bins=70, ax=axs[0, 1], alpha=0.8)\n",
    "axs[0, 1].legend(['Free', 'Ultra'], title='Тип подписки')\n",
    "axs[0, 1].set_xlabel('Время поездки')\n",
    "\n",
    "\n",
    "box1 = axs[1, 0].boxplot([df_free['distance'], df_ultra['distance']], vert=False, patch_artist=True,\n",
    "                      labels=['Free', 'Ultra'], notch=True)\n",
    "colors = ['tab:blue', 'tab:orange']\n",
    "for patch, color in zip(box1['boxes'], colors):\n",
    "    patch.set_facecolor(color)\n",
    "\n",
    "\n",
    "box2 = axs[1, 1].boxplot([df_free['duration'], df_ultra['duration']], vert=False, patch_artist=True,\n",
    "                      labels=['Free', 'Ultra'], notch=True)\n",
    "colors = ['tab:blue', 'tab:orange']\n",
    "for patch, color in zip(box2['boxes'], colors):\n",
    "    patch.set_facecolor(color)\n",
    "\n",
    "plt.show()"
   ]
  },
  {
   "cell_type": "markdown",
   "id": "2eee34ea-071c-450f-b81d-4cb0bc728e8a",
   "metadata": {},
   "source": [
    "Распределение данных по пользователям из двух групп очень похоже как по расстоянию, так и времени поездки, имеют схожие средние значения.\n",
    "Похожее распределение гистограмм может свидетельствовать о схожем поведении пользователей с подпиской и без. Средние величины представлены ниже."
   ]
  },
  {
   "cell_type": "code",
   "execution_count": 62,
   "id": "0db30075-0eab-4102-a665-f402456d03b4",
   "metadata": {},
   "outputs": [
    {
     "data": {
      "text/html": [
       "<div>\n",
       "<style scoped>\n",
       "    .dataframe tbody tr th:only-of-type {\n",
       "        vertical-align: middle;\n",
       "    }\n",
       "\n",
       "    .dataframe tbody tr th {\n",
       "        vertical-align: top;\n",
       "    }\n",
       "\n",
       "    .dataframe thead th {\n",
       "        text-align: right;\n",
       "    }\n",
       "</style>\n",
       "<table border=\"1\" class=\"dataframe\">\n",
       "  <thead>\n",
       "    <tr style=\"text-align: right;\">\n",
       "      <th></th>\n",
       "      <th>distance</th>\n",
       "      <th>duration</th>\n",
       "    </tr>\n",
       "    <tr>\n",
       "      <th>subscription_type</th>\n",
       "      <th></th>\n",
       "      <th></th>\n",
       "    </tr>\n",
       "  </thead>\n",
       "  <tbody>\n",
       "    <tr>\n",
       "      <th>free</th>\n",
       "      <td>3028.374239</td>\n",
       "      <td>17.530771</td>\n",
       "    </tr>\n",
       "    <tr>\n",
       "      <th>ultra</th>\n",
       "      <td>3115.445388</td>\n",
       "      <td>18.541985</td>\n",
       "    </tr>\n",
       "  </tbody>\n",
       "</table>\n",
       "</div>"
      ],
      "text/plain": [
       "                      distance   duration\n",
       "subscription_type                        \n",
       "free               3028.374239  17.530771\n",
       "ultra              3115.445388  18.541985"
      ]
     },
     "execution_count": 62,
     "metadata": {},
     "output_type": "execute_result"
    }
   ],
   "source": [
    "mean_params = df.pivot_table(index='subscription_type', values=['duration', 'distance'])\n",
    "mean_params"
   ]
  },
  {
   "cell_type": "markdown",
   "id": "0ef77cf2-b8b2-4809-b47f-af61088e9569",
   "metadata": {},
   "source": [
    "Судя по диаграммам размаха данные пользователей с Ultra подпиской имеют больше выбросов, поскольку данные расположены более \"кучно\". Возможно, это может быть свзано с тем, что подписку оформляют люди, которые привыкли добираться до конкретных мест на самокате (до работы, остановки, учебы, метро)"
   ]
  },
  {
   "cell_type": "code",
   "execution_count": 20,
   "id": "c2763df4-ec58-4189-a7db-f4ed99e38692",
   "metadata": {},
   "outputs": [
    {
     "name": "stdout",
     "output_type": "stream",
     "text": [
      "Среднее количество поездок в год у одного пользователя с подпиской Ultra 13.740119760479041\n",
      "Среднее количество поездок в год у одного пользователя с подпиской Free 9.298998569384835\n"
     ]
    }
   ],
   "source": [
    "print('Среднее количество поездок в год у одного пользователя с подпиской Ultra', df_free.groupby('user_id')['date'].count().mean())\n",
    "print('Среднее количество поездок в год у одного пользователя с подпиской Free', df_ultra.groupby('user_id')['date'].count().mean())"
   ]
  },
  {
   "cell_type": "markdown",
   "id": "15a442c8-6cbe-44d9-943b-5cafadabacb5",
   "metadata": {},
   "source": [
    "На удивление пользователи без подписки в среднем имеют больше поездок за год."
   ]
  },
  {
   "cell_type": "markdown",
   "id": "402d620f",
   "metadata": {},
   "source": [
    "## Подсчёт выручки"
   ]
  },
  {
   "cell_type": "code",
   "execution_count": 65,
   "id": "e2135539-f6aa-4aa4-b30b-9613064164a3",
   "metadata": {},
   "outputs": [
    {
     "data": {
      "text/html": [
       "<div>\n",
       "<style scoped>\n",
       "    .dataframe tbody tr th:only-of-type {\n",
       "        vertical-align: middle;\n",
       "    }\n",
       "\n",
       "    .dataframe tbody tr th {\n",
       "        vertical-align: top;\n",
       "    }\n",
       "\n",
       "    .dataframe thead th {\n",
       "        text-align: right;\n",
       "    }\n",
       "</style>\n",
       "<table border=\"1\" class=\"dataframe\">\n",
       "  <thead>\n",
       "    <tr style=\"text-align: right;\">\n",
       "      <th></th>\n",
       "      <th>user_id</th>\n",
       "      <th>month</th>\n",
       "      <th>sum_distance</th>\n",
       "      <th>count_of_trips</th>\n",
       "      <th>sum_duration</th>\n",
       "      <th>minute_price</th>\n",
       "      <th>start_ride_price</th>\n",
       "      <th>subscription_type</th>\n",
       "      <th>subscription_fee</th>\n",
       "      <th>monthly_revenue</th>\n",
       "    </tr>\n",
       "  </thead>\n",
       "  <tbody>\n",
       "    <tr>\n",
       "      <th>0</th>\n",
       "      <td>1</td>\n",
       "      <td>1</td>\n",
       "      <td>7027.511294</td>\n",
       "      <td>2</td>\n",
       "      <td>42.0</td>\n",
       "      <td>6</td>\n",
       "      <td>0</td>\n",
       "      <td>ultra</td>\n",
       "      <td>199</td>\n",
       "      <td>252.0</td>\n",
       "    </tr>\n",
       "    <tr>\n",
       "      <th>1</th>\n",
       "      <td>1</td>\n",
       "      <td>4</td>\n",
       "      <td>754.159807</td>\n",
       "      <td>1</td>\n",
       "      <td>7.0</td>\n",
       "      <td>6</td>\n",
       "      <td>0</td>\n",
       "      <td>ultra</td>\n",
       "      <td>199</td>\n",
       "      <td>42.0</td>\n",
       "    </tr>\n",
       "    <tr>\n",
       "      <th>2</th>\n",
       "      <td>1</td>\n",
       "      <td>8</td>\n",
       "      <td>6723.470560</td>\n",
       "      <td>2</td>\n",
       "      <td>45.0</td>\n",
       "      <td>6</td>\n",
       "      <td>0</td>\n",
       "      <td>ultra</td>\n",
       "      <td>199</td>\n",
       "      <td>270.0</td>\n",
       "    </tr>\n",
       "    <tr>\n",
       "      <th>3</th>\n",
       "      <td>1</td>\n",
       "      <td>10</td>\n",
       "      <td>5809.911100</td>\n",
       "      <td>2</td>\n",
       "      <td>32.0</td>\n",
       "      <td>6</td>\n",
       "      <td>0</td>\n",
       "      <td>ultra</td>\n",
       "      <td>199</td>\n",
       "      <td>192.0</td>\n",
       "    </tr>\n",
       "    <tr>\n",
       "      <th>4</th>\n",
       "      <td>1</td>\n",
       "      <td>11</td>\n",
       "      <td>7003.499363</td>\n",
       "      <td>3</td>\n",
       "      <td>54.0</td>\n",
       "      <td>6</td>\n",
       "      <td>0</td>\n",
       "      <td>ultra</td>\n",
       "      <td>199</td>\n",
       "      <td>324.0</td>\n",
       "    </tr>\n",
       "    <tr>\n",
       "      <th>...</th>\n",
       "      <td>...</td>\n",
       "      <td>...</td>\n",
       "      <td>...</td>\n",
       "      <td>...</td>\n",
       "      <td>...</td>\n",
       "      <td>...</td>\n",
       "      <td>...</td>\n",
       "      <td>...</td>\n",
       "      <td>...</td>\n",
       "      <td>...</td>\n",
       "    </tr>\n",
       "    <tr>\n",
       "      <th>11295</th>\n",
       "      <td>1534</td>\n",
       "      <td>6</td>\n",
       "      <td>3409.468534</td>\n",
       "      <td>2</td>\n",
       "      <td>25.0</td>\n",
       "      <td>8</td>\n",
       "      <td>50</td>\n",
       "      <td>free</td>\n",
       "      <td>0</td>\n",
       "      <td>350.0</td>\n",
       "    </tr>\n",
       "    <tr>\n",
       "      <th>11296</th>\n",
       "      <td>1534</td>\n",
       "      <td>8</td>\n",
       "      <td>7622.453034</td>\n",
       "      <td>2</td>\n",
       "      <td>48.0</td>\n",
       "      <td>8</td>\n",
       "      <td>50</td>\n",
       "      <td>free</td>\n",
       "      <td>0</td>\n",
       "      <td>534.0</td>\n",
       "    </tr>\n",
       "    <tr>\n",
       "      <th>11297</th>\n",
       "      <td>1534</td>\n",
       "      <td>9</td>\n",
       "      <td>4928.173852</td>\n",
       "      <td>1</td>\n",
       "      <td>23.0</td>\n",
       "      <td>8</td>\n",
       "      <td>50</td>\n",
       "      <td>free</td>\n",
       "      <td>0</td>\n",
       "      <td>284.0</td>\n",
       "    </tr>\n",
       "    <tr>\n",
       "      <th>11298</th>\n",
       "      <td>1534</td>\n",
       "      <td>11</td>\n",
       "      <td>13350.015305</td>\n",
       "      <td>4</td>\n",
       "      <td>77.0</td>\n",
       "      <td>8</td>\n",
       "      <td>50</td>\n",
       "      <td>free</td>\n",
       "      <td>0</td>\n",
       "      <td>866.0</td>\n",
       "    </tr>\n",
       "    <tr>\n",
       "      <th>11299</th>\n",
       "      <td>1534</td>\n",
       "      <td>12</td>\n",
       "      <td>2371.711192</td>\n",
       "      <td>1</td>\n",
       "      <td>16.0</td>\n",
       "      <td>8</td>\n",
       "      <td>50</td>\n",
       "      <td>free</td>\n",
       "      <td>0</td>\n",
       "      <td>228.0</td>\n",
       "    </tr>\n",
       "  </tbody>\n",
       "</table>\n",
       "<p>11300 rows × 10 columns</p>\n",
       "</div>"
      ],
      "text/plain": [
       "       user_id  month  sum_distance  count_of_trips  sum_duration  \\\n",
       "0            1      1   7027.511294               2          42.0   \n",
       "1            1      4    754.159807               1           7.0   \n",
       "2            1      8   6723.470560               2          45.0   \n",
       "3            1     10   5809.911100               2          32.0   \n",
       "4            1     11   7003.499363               3          54.0   \n",
       "...        ...    ...           ...             ...           ...   \n",
       "11295     1534      6   3409.468534               2          25.0   \n",
       "11296     1534      8   7622.453034               2          48.0   \n",
       "11297     1534      9   4928.173852               1          23.0   \n",
       "11298     1534     11  13350.015305               4          77.0   \n",
       "11299     1534     12   2371.711192               1          16.0   \n",
       "\n",
       "       minute_price  start_ride_price subscription_type  subscription_fee  \\\n",
       "0                 6                 0             ultra               199   \n",
       "1                 6                 0             ultra               199   \n",
       "2                 6                 0             ultra               199   \n",
       "3                 6                 0             ultra               199   \n",
       "4                 6                 0             ultra               199   \n",
       "...             ...               ...               ...               ...   \n",
       "11295             8                50              free                 0   \n",
       "11296             8                50              free                 0   \n",
       "11297             8                50              free                 0   \n",
       "11298             8                50              free                 0   \n",
       "11299             8                50              free                 0   \n",
       "\n",
       "       monthly_revenue  \n",
       "0                252.0  \n",
       "1                 42.0  \n",
       "2                270.0  \n",
       "3                192.0  \n",
       "4                324.0  \n",
       "...                ...  \n",
       "11295            350.0  \n",
       "11296            534.0  \n",
       "11297            284.0  \n",
       "11298            866.0  \n",
       "11299            228.0  \n",
       "\n",
       "[11300 rows x 10 columns]"
      ]
     },
     "execution_count": 65,
     "metadata": {},
     "output_type": "execute_result"
    }
   ],
   "source": [
    "# группировка данных в таблицу\n",
    "user_by_month = df.groupby(['user_id', 'month']) \\\n",
    "                  [['distance', 'duration', 'minute_price', 'start_ride_price', 'subscription_type','subscription_fee']] \\\n",
    "                  .agg({'distance':['sum', 'count'], \n",
    "                        'duration':'sum', \n",
    "                        'minute_price':'first', \n",
    "                        'start_ride_price':'first',\n",
    "                        'subscription_type':'first',\n",
    "                        'subscription_fee':'first'}).reset_index()\n",
    "\n",
    "# переименование столбцов\n",
    "user_by_month.columns = ['user_id', 'month', 'sum_distance', 'count_of_trips', 'sum_duration', 'minute_price', 'start_ride_price', 'subscription_type', 'subscription_fee']\n",
    "\n",
    "# округление длительности в большую сторону\n",
    "user_by_month['sum_duration'] = np.ceil(user_by_month['sum_duration'])\n",
    "\n",
    "# добавление итогового столбца с помесячной суммой выручки\n",
    "user_by_month['monthly_revenue'] = user_by_month['count_of_trips'] * user_by_month['start_ride_price'] + \\\n",
    "                                   user_by_month['start_ride_price'] + \\\n",
    "                                   user_by_month['minute_price'] * user_by_month['sum_duration']\n",
    "\n",
    "user_by_month"
   ]
  },
  {
   "cell_type": "code",
   "execution_count": 22,
   "id": "f1f3790d-87da-4901-8bbb-c01036944c03",
   "metadata": {},
   "outputs": [
    {
     "name": "stdout",
     "output_type": "stream",
     "text": [
      "Суммарное количество пропусков в таблице равно 0\n"
     ]
    }
   ],
   "source": [
    "print('Суммарное количество пропусков в таблице равно', user_by_month.isna().sum().sum())"
   ]
  },
  {
   "cell_type": "markdown",
   "id": "41545ac0",
   "metadata": {},
   "source": [
    "## Проверка гипотез"
   ]
  },
  {
   "cell_type": "markdown",
   "id": "72be59b3-1632-49f9-854b-fe032ad517c9",
   "metadata": {},
   "source": [
    "### Тратят ли пользователи с подпиской больше времени на поездки? Если да, то пользователи с подпиской могут быть «выгоднее» для компании. \n",
    "\n",
    "Сформируем гипотезы для проведения двухвыборочного t-теста для независимых выборок.\n",
    "* Н0 - пользователи с подпиской тратят времени на поездки столько же, сколько и пользователи с подпиской.\n",
    "* Н1 - пользователи с подпиской тратят больше времени на поездки."
   ]
  },
  {
   "cell_type": "code",
   "execution_count": 23,
   "id": "138a0955-e400-4b53-9a55-df35c4fae6a2",
   "metadata": {},
   "outputs": [
    {
     "name": "stdout",
     "output_type": "stream",
     "text": [
      "Среднее время поездки выборки пользователей с подспиской 18.54198516280583\n",
      "Среднее время поездки выборки пользователей без подсписки 17.530771268800226\n"
     ]
    }
   ],
   "source": [
    "sample_ultra_duration = df_ultra['duration']\n",
    "sample_free_duration = df_free['duration']\n",
    "print(f\"Среднее время поездки выборки пользователей с подспиской {df_ultra['duration'].mean()}\")\n",
    "print(f\"Среднее время поездки выборки пользователей без подсписки {df_free['duration'].mean()}\")"
   ]
  },
  {
   "cell_type": "code",
   "execution_count": 24,
   "id": "5199e4e1-226a-4a9a-adbc-566e3296c01a",
   "metadata": {},
   "outputs": [
    {
     "name": "stdout",
     "output_type": "stream",
     "text": [
      "p-значение: 4.7044680744539e-28\n",
      "Отвергаем нулевую гипотезу\n"
     ]
    }
   ],
   "source": [
    "#выберем уровень статистической значимости\n",
    "alpha = 0.05\n",
    "\n",
    "results = st.ttest_ind(sample_ultra_duration, sample_free_duration, alternative='greater')\n",
    "\n",
    "print('p-значение:', results.pvalue)\n",
    "\n",
    "if results.pvalue < alpha:\n",
    "    print('Отвергаем нулевую гипотезу')\n",
    "else:\n",
    "    print('Не получилось отвергнуть нулевую гипотезу')"
   ]
  },
  {
   "cell_type": "markdown",
   "id": "0318e9fe-6547-4132-a771-d8179aa6e517",
   "metadata": {},
   "source": [
    "**Есть основания утверждать что пользователи с подпиской тратят больше времени на поездки.**"
   ]
  },
  {
   "cell_type": "markdown",
   "id": "57586c24-8885-4b47-bd10-8a330e0b6c5d",
   "metadata": {},
   "source": [
    "### Расстояние одной поездки в 3130 метров — оптимальное с точки зрения износа самоката. Проверим можно ли сказать, что среднее расстояние, которое проезжают пользователи с подпиской за одну поездку, не превышает 3130 метров."
   ]
  },
  {
   "cell_type": "markdown",
   "id": "b203974c-8aa6-4e6c-8aa3-a1bd94f15ec8",
   "metadata": {},
   "source": [
    "Сформируем гипотезы для проведения одностороннего t-теста для независимой выборки.\n",
    "* Н0 - среднее расстояние, которое проезжают пользоватли с подпиской равно 3130 метров.\n",
    "* Н1 - среднее расстояние, которое проезжают пользоватли с подпиской больше 3130 метров."
   ]
  },
  {
   "cell_type": "code",
   "execution_count": 25,
   "id": "23ea867b",
   "metadata": {},
   "outputs": [
    {
     "name": "stdout",
     "output_type": "stream",
     "text": [
      "Среднее расстояние поездки выборки пользователей с подспиской 3115.4453880370247\n"
     ]
    }
   ],
   "source": [
    "sample_ultra_distance = df_ultra['distance']\n",
    "print(f\"Среднее расстояние поездки выборки пользователей с подспиской {df_ultra['distance'].mean()}\")"
   ]
  },
  {
   "cell_type": "code",
   "execution_count": 26,
   "id": "9b826b90-e155-400d-bde5-c201f5dfc16d",
   "metadata": {},
   "outputs": [
    {
     "name": "stdout",
     "output_type": "stream",
     "text": [
      "p-значение: 0.9195368847849785\n",
      "Не получилось отвергнуть нулевую гипотезу\n"
     ]
    }
   ],
   "source": [
    "#выберем уровень статистической значимости\n",
    "alpha = 0.05\n",
    "\n",
    "optimal_value = 3130\n",
    "results = st.ttest_1samp(sample_ultra_distance, optimal_value, alternative='greater')\n",
    "\n",
    "print('p-значение:', results.pvalue)\n",
    "\n",
    "if results.pvalue < alpha:\n",
    "    print('Отвергаем нулевую гипотезу')\n",
    "else:\n",
    "    print('Не получилось отвергнуть нулевую гипотезу')"
   ]
  },
  {
   "cell_type": "markdown",
   "id": "8a2aec58-7c69-4e73-a891-452f904eca8b",
   "metadata": {},
   "source": [
    "**По результатам статистического теста не достаточно оснований отвергнуть нулевую гипотезу. Скорее всего, пользователи с подпиской действительно** *в среднем* **проезжают расстояние близкое к оптимальному с точни зрения износа самоката.**"
   ]
  },
  {
   "cell_type": "markdown",
   "id": "5eea3303-b5c5-4637-af24-1f416c2e24fd",
   "metadata": {},
   "source": [
    "### Будет ли помесячная выручка от пользователей с подпиской по месяцам выше, чем выручка от пользователей без подписки. Сделайте вывод."
   ]
  },
  {
   "cell_type": "markdown",
   "id": "88316c42-fd33-4125-bf1d-ee40c96f593d",
   "metadata": {},
   "source": [
    "Сформируем гипотезы для проведения двухвыборочного t-теста для независимых выборок.\n",
    "* Н0 - помесячная выручка пользователей с подпиской равна выручке пользователей без подписки. \n",
    "* Н1 - помесячная выручка пользователей с подпиской меньше выручки пользователей без подписки. "
   ]
  },
  {
   "cell_type": "markdown",
   "id": "af7b71ee-bc0c-4f0c-b540-37c0b692b2cc",
   "metadata": {},
   "source": [
    "Добавим к ранее сгруппированной таблице столбец с типом подписки"
   ]
  },
  {
   "cell_type": "code",
   "execution_count": 55,
   "id": "b712fbf5-227c-4dad-943c-d48880fb7f4e",
   "metadata": {},
   "outputs": [],
   "source": [
    "sample_ultra_monthly_revenue = user_by_month.loc[user_by_month['subscription_type'] == 'ultra', 'monthly_revenue']\n",
    "sample_free_monthly_revenue = user_by_month.loc[user_by_month['subscription_type'] == 'free', 'monthly_revenue']"
   ]
  },
  {
   "cell_type": "code",
   "execution_count": 56,
   "id": "8e335586-66bb-4a09-a88d-7cb8e9fe7e91",
   "metadata": {},
   "outputs": [
    {
     "name": "stdout",
     "output_type": "stream",
     "text": [
      "p-значение: 0.0\n",
      "Отвергаем нулевую гипотезу\n"
     ]
    }
   ],
   "source": [
    "#выберем уровень статистической значимости\n",
    "alpha = 0.05\n",
    "\n",
    "results = st.ttest_ind(sample_ultra_monthly_revenue, sample_free_monthly_revenue, alternative='less', equal_var=False)\n",
    "\n",
    "print('p-значение:', results.pvalue)\n",
    "\n",
    "if results.pvalue < alpha:\n",
    "    print('Отвергаем нулевую гипотезу')\n",
    "else:\n",
    "    print('Не получилось отвергнуть нулевую гипотезу')"
   ]
  },
  {
   "cell_type": "markdown",
   "id": "da6f47ee-0fe1-436a-9503-e76e005b17b3",
   "metadata": {},
   "source": [
    "**По результатам теста у нас достаточное оснований полагать что пользователи с подпиской приносят в среднем меньше выручки по месяцам.**"
   ]
  },
  {
   "cell_type": "markdown",
   "id": "1f23a2a9-6dbf-4d10-af63-c1717d0e638c",
   "metadata": {},
   "source": [
    "### Техническая команда сервиса обновила сервера, с которыми взаимодействует мобильное приложение. Она надеется, что из-за этого количество обращений в техподдержку значимо снизилось. Некоторый файл содержит для каждого пользователя данные о количестве обращений до обновления и после него. Какой тест вам понадобился бы для проверки этой гипотезы?"
   ]
  },
  {
   "cell_type": "markdown",
   "id": "96086369-b6e6-4222-9ac7-2dab5ad43528",
   "metadata": {},
   "source": [
    "В данном случае условие напоминает две зависимые (парные) выборки, следовательно, нам нужно проверить гипотезу о равенстве среднего количества генеральной совокупности (обращений в тех.поддержку) до и после изменения. \n",
    "\n",
    "Для этого нам подойдет метод `scipy.stats.ttest_rel`."
   ]
  },
  {
   "cell_type": "markdown",
   "id": "61213c5e",
   "metadata": {},
   "source": [
    "## Распределения"
   ]
  },
  {
   "cell_type": "markdown",
   "id": "f38c07d2-7a53-4ce1-be1d-8e371414eede",
   "metadata": {},
   "source": [
    "### Отделу маркетинга GoFast поставили задачу: \n",
    "нужно провести акцию с раздачей промокодов на один бесплатный месяц подписки, в рамках которой как минимум 100 существующих клиентов должны продлить эту подписку. То есть по завершении периода действия подписки пользователь может либо отказаться от неё, либо продлить, совершив соответствующий платёж. \n",
    "\n",
    "Эта акция уже проводилась ранее и по итогу выяснилось, что после бесплатного пробного периода подписку продлевают 10 % пользователей. Выясните, какое минимальное количество промокодов нужно разослать, чтобы вероятность не выполнить план была например 5 %. Подберите параметры распределения, описывающего эту ситуацию, постройте график распределения и сформулируйте ответ на вопрос о количестве промокодов."
   ]
  },
  {
   "cell_type": "code",
   "execution_count": 31,
   "id": "ff35d948-87d3-4601-ba31-1e92de882246",
   "metadata": {},
   "outputs": [
    {
     "name": "stdout",
     "output_type": "stream",
     "text": [
      "Количество процентов  100 успехов при 1169 испытаний:  0.052522319024517476\n",
      "\n",
      "Количество успехов при 0.05% неудач 100.0\n",
      "\n"
     ]
    },
    {
     "data": {
      "image/png": "[encoded data removed]",
      "text/plain": [
       "<Figure size 640x480 with 1 Axes>"
      ]
     },
     "metadata": {},
     "output_type": "display_data"
    }
   ],
   "source": [
    "n = 1169\n",
    "k = 100\n",
    "p = 0.1\n",
    "mu = n * p\n",
    "sigma = (n * p * (1 - p))**0.5\n",
    "\n",
    "distr = st.binom(n, p)\n",
    "print(f'Количество процентов  {k} успехов при {n} испытаний: ', distr.cdf(k))\n",
    "print()\n",
    "print(f'Количество успехов при 0.05% неудач', distr.ppf(0.05))\n",
    "print()\n",
    "\n",
    "\n",
    "distr = []\n",
    "end_range = 200\n",
    "\n",
    "for k in range(0, end_range):\n",
    "    choose = factorial(n) / (factorial(k) * factorial(n - k))\n",
    "    prob = choose * p**k * (1-p)**(n-k) \n",
    "    distr.append(prob)\n",
    "    \n",
    "plt.bar(range(0, end_range), distr)\n",
    "plt.show()"
   ]
  },
  {
   "cell_type": "markdown",
   "id": "54d0ed4c-2afc-4312-ad35-4d799bed50e3",
   "metadata": {},
   "source": [
    "**Ответ:** для того, чтобы минимум **100** клиентов продлили подписку необходимо **1169** клиентам раздать промокоды"
   ]
  },
  {
   "cell_type": "markdown",
   "id": "757fd2a6-7974-45fd-8126-a6a34162ed3e",
   "metadata": {},
   "source": [
    "### Отдел маркетинга рассылает клиентам push-уведомления в мобильном приложении"
   ]
  },
  {
   "cell_type": "markdown",
   "id": "a4475b7f-b385-4cf4-af92-431dd8d70acb",
   "metadata": {},
   "source": [
    "Отдел маркетинга рассылает клиентам push-уведомления в мобильном приложении. Клиенты могут открыть его или не открывать. Известно, что уведомления открывают около 40 % получивших клиентов. Отдел планирует разослать 1 млн уведомлений. С помощью аппроксимации постройте примерный график распределения и оцените вероятность того, что уведомление откроют не более 399,5 тыс. пользователей"
   ]
  },
  {
   "cell_type": "markdown",
   "id": "f6d94099-e5e6-47d1-8eb9-fd9a680a1c54",
   "metadata": {},
   "source": [
    "Ввиду очень большого значения повторений и невозможности считать факториалы таких числе, попробудем аппроксимировать распределением Пуассона"
   ]
  },
  {
   "cell_type": "code",
   "execution_count": 32,
   "id": "56f2439d-d604-4e44-8eb1-ee10ed6e2d28",
   "metadata": {},
   "outputs": [
    {
     "data": {
      "image/png": "[encoded data removed]",
      "text/plain": [
       "<Figure size 640x480 with 1 Axes>"
      ]
     },
     "metadata": {},
     "output_type": "display_data"
    }
   ],
   "source": [
    "n = 1000000\n",
    "p = 0.4\n",
    "mu = n * p\n",
    "sigma = (n * p * (1-p))**0.5\n",
    "lmbd = n * p\n",
    "x = 399500\n",
    "\n",
    "max_value = int(mu + 4 * sigma)\n",
    "min_value = int(mu - 4 * sigma)\n",
    "\n",
    "poisson_probs = []\n",
    "for k in range(min_value, max_value + 1, 50):\n",
    "    poisson_prob = st.poisson.cdf(k, lmbd)\n",
    "    poisson_probs.append(poisson_prob)\n",
    "\n",
    "plt.plot(range(min_value, max_value + 1, 50), poisson_probs, '-o')\n",
    "plt.title('Аппроксимация распределением Пуассона')\n",
    "plt.axvline(x, color='red', linestyle='dashed', linewidth=2)\n",
    "plt.show()"
   ]
  },
  {
   "cell_type": "code",
   "execution_count": 33,
   "id": "c988b6b5-22c3-4085-b4d2-3eb423da139b",
   "metadata": {},
   "outputs": [
    {
     "name": "stdout",
     "output_type": "stream",
     "text": [
      "Вероятность того, что уведомление откроют не более 399500 раз равна 21.5%\n"
     ]
    }
   ],
   "source": [
    "print(f'Вероятность того, что уведомление откроют не более {x} раз равна {round(st.poisson.cdf(x, lmbd) * 100, 1)}%')"
   ]
  },
  {
   "cell_type": "markdown",
   "id": "54695e1c-2afb-4ba1-8617-5c0d8cc5821b",
   "metadata": {},
   "source": [
    "# Вывод"
   ]
  },
  {
   "cell_type": "markdown",
   "id": "0b2a37ff-8c93-4f2a-9885-7b951bd3d3ef",
   "metadata": {},
   "source": [
    "В результате исследования были проанализированы данные о сервисе аренды самокатов GoFast из таких городов как Тюмень, Омск, Москва, Ростов-на-Дону, Краснодар, Пятигорск, Екатеринбург, Сочи.\n",
    "\n",
    "Перед анализом была выполнена предобработка данных, в результате которой удаолено незначительное количество дубликатов в таблице users_data. \n",
    "Также обнаруже в таблице riders_data 95 аномальных значений - поездки длительностью в пол минуты, за которые было пройдено в среднем 5км. Такие значения были удалены. \n",
    "\n",
    "Наиболее часто услугами сервиса пользуются люди от 20 до 30 лет.\n",
    "\n",
    "По результатам работы с данными можно сделать несколько выводов для бизнеса, которые могут помочь скорректировать стратегию развития:\n",
    "1. Пользователей без подписки незначительно больше, чем пользователей с подпиской, соотносятся они примерно 45.6% на 54,4% соответственно.\n",
    "2. Пользователи с подпиской чаще пользуются сервисом. Среднее количество поездок в год у одного пользователя с подпиской Ultra и Free 13.7 и 9.3 соответственно.\n",
    "3. Средние значения времени и дальности представлены ниже:"
   ]
  },
  {
   "cell_type": "code",
   "execution_count": 64,
   "id": "ab044675-5941-4f19-99d7-6f0fcec286e5",
   "metadata": {},
   "outputs": [
    {
     "data": {
      "text/html": [
       "<div>\n",
       "<style scoped>\n",
       "    .dataframe tbody tr th:only-of-type {\n",
       "        vertical-align: middle;\n",
       "    }\n",
       "\n",
       "    .dataframe tbody tr th {\n",
       "        vertical-align: top;\n",
       "    }\n",
       "\n",
       "    .dataframe thead th {\n",
       "        text-align: right;\n",
       "    }\n",
       "</style>\n",
       "<table border=\"1\" class=\"dataframe\">\n",
       "  <thead>\n",
       "    <tr style=\"text-align: right;\">\n",
       "      <th></th>\n",
       "      <th>distance</th>\n",
       "      <th>duration</th>\n",
       "    </tr>\n",
       "    <tr>\n",
       "      <th>subscription_type</th>\n",
       "      <th></th>\n",
       "      <th></th>\n",
       "    </tr>\n",
       "  </thead>\n",
       "  <tbody>\n",
       "    <tr>\n",
       "      <th>free</th>\n",
       "      <td>3028.374239</td>\n",
       "      <td>17.530771</td>\n",
       "    </tr>\n",
       "    <tr>\n",
       "      <th>ultra</th>\n",
       "      <td>3115.445388</td>\n",
       "      <td>18.541985</td>\n",
       "    </tr>\n",
       "  </tbody>\n",
       "</table>\n",
       "</div>"
      ],
      "text/plain": [
       "                      distance   duration\n",
       "subscription_type                        \n",
       "free               3028.374239  17.530771\n",
       "ultra              3115.445388  18.541985"
      ]
     },
     "execution_count": 64,
     "metadata": {},
     "output_type": "execute_result"
    }
   ],
   "source": [
    "mean_params"
   ]
  },
  {
   "cell_type": "markdown",
   "id": "31aa84a1-42a7-41c1-9521-0a089797c76a",
   "metadata": {},
   "source": [
    "4. Пользователи с подпиской тратят больше времени на поездки, как следствие  среднем проезжают расстояние больше оптимального с точки зрения износа самоката (3130 метров).\n",
    "5. Помесячная выручка от пользователей с подпиской меньшне, чем от пользователей без подписки."
   ]
  }
 ],
 "metadata": {
  "ExecuteTimeLog": [
   {
    "duration": 1378,
    "start_time": "2024-07-28T08:27:09.887Z"
   },
   {
    "duration": 312,
    "start_time": "2024-07-28T08:27:11.267Z"
   },
   {
    "duration": 49,
    "start_time": "2024-07-28T08:27:11.580Z"
   },
   {
    "duration": 7,
    "start_time": "2024-07-28T08:27:11.631Z"
   },
   {
    "duration": 32,
    "start_time": "2024-07-28T08:27:11.640Z"
   },
   {
    "duration": 5,
    "start_time": "2024-07-28T08:27:11.673Z"
   },
   {
    "duration": 4,
    "start_time": "2024-07-28T08:27:11.680Z"
   },
   {
    "duration": 1059,
    "start_time": "2024-07-28T08:27:11.686Z"
   },
   {
    "duration": 25,
    "start_time": "2024-07-28T08:27:12.746Z"
   },
   {
    "duration": 9,
    "start_time": "2024-07-28T08:27:12.774Z"
   },
   {
    "duration": 1111,
    "start_time": "2024-07-28T08:27:12.785Z"
   },
   {
    "duration": 20,
    "start_time": "2024-07-28T08:27:13.897Z"
   },
   {
    "duration": 5,
    "start_time": "2024-07-28T08:27:13.918Z"
   },
   {
    "duration": 12,
    "start_time": "2024-07-28T08:27:13.924Z"
   },
   {
    "duration": 7,
    "start_time": "2024-07-28T08:27:13.937Z"
   },
   {
    "duration": 41,
    "start_time": "2024-07-28T08:27:13.945Z"
   },
   {
    "duration": 22,
    "start_time": "2024-07-28T08:27:13.987Z"
   },
   {
    "duration": 5,
    "start_time": "2024-07-28T08:27:14.011Z"
   },
   {
    "duration": 4,
    "start_time": "2024-07-28T08:27:14.017Z"
   },
   {
    "duration": 35,
    "start_time": "2024-07-28T08:27:14.022Z"
   },
   {
    "duration": 48,
    "start_time": "2024-07-28T08:27:14.059Z"
   },
   {
    "duration": 6,
    "start_time": "2024-07-28T08:27:14.108Z"
   },
   {
    "duration": 7,
    "start_time": "2024-07-28T08:27:14.116Z"
   },
   {
    "duration": 415,
    "start_time": "2024-07-28T08:27:14.125Z"
   },
   {
    "duration": 244,
    "start_time": "2024-07-28T08:27:14.542Z"
   },
   {
    "duration": 3,
    "start_time": "2024-07-28T08:27:14.788Z"
   },
   {
    "duration": 1233,
    "start_time": "2024-07-28T08:31:26.130Z"
   },
   {
    "duration": 176,
    "start_time": "2024-07-28T08:31:27.365Z"
   },
   {
    "duration": 50,
    "start_time": "2024-07-28T08:31:27.542Z"
   },
   {
    "duration": 7,
    "start_time": "2024-07-28T08:31:27.595Z"
   },
   {
    "duration": 29,
    "start_time": "2024-07-28T08:31:27.604Z"
   },
   {
    "duration": 18,
    "start_time": "2024-07-28T08:31:27.635Z"
   },
   {
    "duration": 19,
    "start_time": "2024-07-28T08:31:27.654Z"
   },
   {
    "duration": 1038,
    "start_time": "2024-07-28T08:31:27.675Z"
   },
   {
    "duration": 24,
    "start_time": "2024-07-28T08:31:28.715Z"
   },
   {
    "duration": 10,
    "start_time": "2024-07-28T08:31:28.743Z"
   },
   {
    "duration": 1120,
    "start_time": "2024-07-28T08:31:28.754Z"
   },
   {
    "duration": 16,
    "start_time": "2024-07-28T08:31:29.876Z"
   },
   {
    "duration": 5,
    "start_time": "2024-07-28T08:31:29.909Z"
   },
   {
    "duration": 5,
    "start_time": "2024-07-28T08:31:29.916Z"
   },
   {
    "duration": 10,
    "start_time": "2024-07-28T08:31:29.923Z"
   },
   {
    "duration": 42,
    "start_time": "2024-07-28T08:31:29.934Z"
   },
   {
    "duration": 4,
    "start_time": "2024-07-28T08:31:29.978Z"
   },
   {
    "duration": 25,
    "start_time": "2024-07-28T08:31:29.984Z"
   },
   {
    "duration": 37,
    "start_time": "2024-07-28T08:31:30.011Z"
   },
   {
    "duration": 40,
    "start_time": "2024-07-28T08:31:30.050Z"
   },
   {
    "duration": 93,
    "start_time": "2024-07-28T08:31:30.091Z"
   },
   {
    "duration": 54,
    "start_time": "2024-07-28T08:31:30.186Z"
   },
   {
    "duration": 30,
    "start_time": "2024-07-28T08:31:30.242Z"
   },
   {
    "duration": 445,
    "start_time": "2024-07-28T08:31:30.274Z"
   },
   {
    "duration": 286,
    "start_time": "2024-07-28T08:31:30.721Z"
   },
   {
    "duration": 4,
    "start_time": "2024-07-28T08:31:31.009Z"
   },
   {
    "duration": 8,
    "start_time": "2024-07-28T10:51:23.173Z"
   },
   {
    "duration": 277,
    "start_time": "2024-07-28T10:52:30.531Z"
   },
   {
    "duration": 44,
    "start_time": "2024-07-28T10:52:35.933Z"
   },
   {
    "duration": 8,
    "start_time": "2024-07-28T10:52:39.753Z"
   },
   {
    "duration": 6,
    "start_time": "2024-07-28T10:52:44.522Z"
   },
   {
    "duration": 32,
    "start_time": "2024-07-28T10:52:52.322Z"
   },
   {
    "duration": 5,
    "start_time": "2024-07-28T10:53:00.499Z"
   },
   {
    "duration": 5,
    "start_time": "2024-07-28T10:53:01.781Z"
   },
   {
    "duration": 5,
    "start_time": "2024-07-28T10:53:03.660Z"
   },
   {
    "duration": 43,
    "start_time": "2024-07-28T10:53:04.654Z"
   },
   {
    "duration": 8,
    "start_time": "2024-07-28T10:53:07.941Z"
   },
   {
    "duration": 5,
    "start_time": "2024-07-28T10:54:18.282Z"
   }
  ],
  "kernelspec": {
   "display_name": "Python 3 (ipykernel)",
   "language": "python",
   "name": "python3"
  },
  "language_info": {
   "codemirror_mode": {
    "name": "ipython",
    "version": 3
   },
   "file_extension": ".py",
   "mimetype": "text/x-python",
   "name": "python",
   "nbconvert_exporter": "python",
   "pygments_lexer": "ipython3",
   "version": "3.12.1"
  },
  "toc": {
   "base_numbering": 1,
   "nav_menu": {},
   "number_sections": true,
   "sideBar": true,
   "skip_h1_title": true,
   "title_cell": "Table of Contents",
   "title_sidebar": "Contents",
   "toc_cell": false,
   "toc_position": {},
   "toc_section_display": true,
   "toc_window_display": false
  }
 },
 "nbformat": 4,
 "nbformat_minor": 5
}
